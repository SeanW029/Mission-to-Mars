{
 "cells": [
  {
   "cell_type": "code",
   "execution_count": 18,
   "source": [
    "from flask import Flask, render_template, redirect, url_for\r\n",
    "from flask_pymongo import PyMongo\r\n",
    "import scraping"
   ],
   "outputs": [],
   "metadata": {}
  },
  {
   "cell_type": "markdown",
   "source": [],
   "metadata": {}
  },
  {
   "cell_type": "markdown",
   "source": [],
   "metadata": {}
  },
  {
   "cell_type": "code",
   "execution_count": 19,
   "source": [
    "app = Flask(__name__)"
   ],
   "outputs": [],
   "metadata": {}
  },
  {
   "cell_type": "code",
   "execution_count": 20,
   "source": [
    "# Use flask_pymongo to set up mongo connection\r\n",
    "app.config[\"MONGO_URI\"] = \"mongodb://localhost:27017/mars_app\"\r\n",
    "mongo = PyMongo(app)"
   ],
   "outputs": [],
   "metadata": {}
  },
  {
   "cell_type": "code",
   "execution_count": 21,
   "source": [
    "@app.route(\"/\")\r\n",
    "def index():\r\n",
    "   mars = mongo.db.mars.find_one()\r\n",
    "   return render_template(\"index.html\", mars=mars)"
   ],
   "outputs": [],
   "metadata": {}
  },
  {
   "cell_type": "code",
   "execution_count": 22,
   "source": [
    "@app.route(\"/scrape\")\r\n",
    "def scrape():\r\n",
    "   mars = mongo.db.mars\r\n",
    "   mars_data = scraping.scrape_all()\r\n",
    "   mars.update({}, mars_data, upsert=True)\r\n",
    "   return redirect('/', code=302)"
   ],
   "outputs": [],
   "metadata": {}
  },
  {
   "cell_type": "code",
   "execution_count": null,
   "source": [
    "if __name__ == \"__main__\":\r\n",
    "   app.run()"
   ],
   "outputs": [],
   "metadata": {}
  },
  {
   "cell_type": "code",
   "execution_count": null,
   "source": [],
   "outputs": [],
   "metadata": {}
  }
 ],
 "metadata": {
  "kernelspec": {
   "display_name": "Python 3",
   "language": "python",
   "name": "python3"
  },
  "language_info": {
   "codemirror_mode": {
    "name": "ipython",
    "version": 3
   },
   "file_extension": ".py",
   "mimetype": "text/x-python",
   "name": "python",
   "nbconvert_exporter": "python",
   "pygments_lexer": "ipython3",
   "version": "3.8.8"
  }
 },
 "nbformat": 4,
 "nbformat_minor": 5
}